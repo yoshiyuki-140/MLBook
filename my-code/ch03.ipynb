{
 "cells": [
  {
   "cell_type": "code",
   "execution_count": 4,
   "metadata": {},
   "outputs": [
    {
     "name": "stdout",
     "output_type": "stream",
     "text": [
      "[[5.]\n",
      " [3.]]\n",
      "[[0. 0. 0. 0. 0.]]\n",
      "[[1.]\n",
      " [1.]]\n"
     ]
    }
   ],
   "source": [
    "import numpy as np\n",
    "\n",
    "W = np.array([[5.0], [3.0]])\n",
    "print(W)\n",
    "x = np.array([[1.0, 5.0]])\n",
    "\n",
    "# すべての要素が0の行列\n",
    "zeros = np.zeros([1, 5])\n",
    "print(zeros)\n",
    "# すべての要素が1の行列\n",
    "ones = np.ones(W.shape)\n",
    "print(ones)"
   ]
  }
 ],
 "metadata": {
  "kernelspec": {
   "display_name": "dezero_black",
   "language": "python",
   "name": "python3"
  },
  "language_info": {
   "codemirror_mode": {
    "name": "ipython",
    "version": 3
   },
   "file_extension": ".py",
   "mimetype": "text/x-python",
   "name": "python",
   "nbconvert_exporter": "python",
   "pygments_lexer": "ipython3",
   "version": "3.12.4"
  }
 },
 "nbformat": 4,
 "nbformat_minor": 2
}
